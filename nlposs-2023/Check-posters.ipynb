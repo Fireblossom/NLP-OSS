{
 "cells": [
  {
   "cell_type": "code",
   "execution_count": 1,
   "id": "fe1f69d1",
   "metadata": {},
   "outputs": [],
   "source": [
    "papers = \"\"\"4\n",
    "5\n",
    "6\n",
    "8\n",
    "9\n",
    "10\n",
    "11\n",
    "12\n",
    "13\n",
    "16\n",
    "17\n",
    "18\n",
    "19\n",
    "20\n",
    "21\n",
    "22\n",
    "23\n",
    "24\n",
    "25\n",
    "26\n",
    "27\n",
    "28\n",
    "29\n",
    "30\n",
    "32\n",
    "33\"\"\".split('\\n')"
   ]
  },
  {
   "cell_type": "code",
   "execution_count": 5,
   "id": "cd0d0673",
   "metadata": {},
   "outputs": [],
   "source": [
    "papers = [int(i) for i  in papers]"
   ]
  },
  {
   "cell_type": "code",
   "execution_count": 6,
   "id": "cfb46228",
   "metadata": {},
   "outputs": [
    {
     "name": "stdout",
     "output_type": "stream",
     "text": [
      "04-calamanCy-Poster.pdf\r\n",
      "04-calamanCy-Presentation.pdf\r\n",
      "05-Jina-Embeddings-A-Novel-Set-of-High-Performance-Sentence-Embedding-Models-Poster.pdf\r\n",
      "05-Jina-Embeddings-A-Novel-Set-of-High-Performance-Sentence-Embedding-Models-Slide.pdf\r\n",
      "08-PyThaiNLP-Poster.pdf\r\n",
      "08-PyThaiNLP-Slide.pdf\r\n",
      "09-Empowering_KD_from_SL_RAA_Poster.pdf\r\n",
      "09-Empowering_KD_from_SL_RAA_lightning_slide.pdf\r\n",
      "11-gpt4all_lightning_slide.png\r\n",
      "11-gpt4all_poster.png\r\n",
      "12-kani-a-lightweight-and-highly-hackable-framework-for-building-language-model-applications-poster.pdf\r\n",
      "12-kani-a-lightweight-and-highly-hackable-framework-for-building-language-model-applications-slide.pdf\r\n",
      "13_gector_case_study_poster.pdf\r\n",
      "13_gector_case_study_ppt.pdf\r\n",
      "16-EDGAR_CRAWLER_poster.png\r\n",
      "16-EDGAR_CRAWLER_slide_lightning_presentation.pdf\r\n",
      "17-ACL-Anthology-Poster.pdf\r\n",
      "17-ACL-Anthology-Slide.pdf\r\n",
      "18-nanoT5-Poster.pdf\r\n",
      "18-nanoT5-Slide.pdf\r\n",
      "20-sotastream-poster.pdf\r\n",
      "20-sotastream-slide.pdf\r\n",
      "21_LiFE_Poster.pdf\r\n",
      "21_LiFE_Slide.pdf\r\n",
      "22-rumour-detection-in-the-wild-poster.pdf\r\n",
      "22-rumour-detection-in-the-wild-slide.pdf\r\n",
      "23-LaTeX-Rainbow-Poster.pdf\r\n",
      "23-LaTeX-Rainbow-Slide.pdf\r\n",
      "24-LP-DeepZensolsLightingPres.pdf\r\n",
      "24-Poster-DeepZensolsPoster.pdf\r\n",
      "26-torchdistill_nlp-oss2023_poster.pdf\r\n",
      "26-torchdistill_nlp-oss2023_slide.pdf\r\n",
      "27-captum-poster.pdf\r\n",
      "27-captum-slide.pdf\r\n",
      "28-nerblackbox-poster.pdf\r\n",
      "28-nerblackbox-presentation.pdf\r\n",
      "29-NewsSignals-lightning-slide.pdf\r\n",
      "29-NewsSignals-poster.pdf\r\n",
      "30-PyTAIL-Poster.pdf\r\n",
      "30-PyTAIL-Slide.pdf\r\n",
      "32_Antarlekhaka_A_Comprehensive_Tool_for_Multi-task_Natural_Language_Annotation_Poster.pdf\r\n",
      "32_Antarlekhaka_A_Comprehensive_Tool_for_Multi-task_Natural_Language_Annotation_Slide.pdf\r\n",
      "Findings-The_Vault_23_10.pdf\r\n",
      "Findings-The_Vault_23_10_Poster.pdf\r\n",
      "Findings-The_Vault_23_10_Slide.pdf\r\n",
      "README.md\r\n",
      "Untitled.ipynb\r\n"
     ]
    }
   ],
   "source": [
    "ls"
   ]
  },
  {
   "cell_type": "code",
   "execution_count": 7,
   "id": "096e1b9b",
   "metadata": {},
   "outputs": [],
   "source": [
    "x = \"\"\"04-calamanCy-Poster.pdf\n",
    "04-calamanCy-Presentation.pdf\n",
    "05-Jina-Embeddings-A-Novel-Set-of-High-Performance-Sentence-Embedding-Models-Poster.pdf\n",
    "05-Jina-Embeddings-A-Novel-Set-of-High-Performance-Sentence-Embedding-Models-Slide.pdf\n",
    "08-PyThaiNLP-Poster.pdf\n",
    "08-PyThaiNLP-Slide.pdf\n",
    "09-Empowering_KD_from_SL_RAA_Poster.pdf\n",
    "09-Empowering_KD_from_SL_RAA_lightning_slide.pdf\n",
    "11-gpt4all_lightning_slide.png\n",
    "11-gpt4all_poster.png\n",
    "12-kani-a-lightweight-and-highly-hackable-framework-for-building-language-model-applications-poster.pdf\n",
    "12-kani-a-lightweight-and-highly-hackable-framework-for-building-language-model-applications-slide.pdf\n",
    "13_gector_case_study_poster.pdf\n",
    "13_gector_case_study_ppt.pdf\n",
    "16-EDGAR_CRAWLER_poster.png\n",
    "16-EDGAR_CRAWLER_slide_lightning_presentation.pdf\n",
    "17-ACL-Anthology-Poster.pdf\n",
    "17-ACL-Anthology-Slide.pdf\n",
    "18-nanoT5-Poster.pdf\n",
    "18-nanoT5-Slide.pdf\n",
    "20-sotastream-poster.pdf\n",
    "20-sotastream-slide.pdf\n",
    "21_LiFE_Poster.pdf\n",
    "21_LiFE_Slide.pdf\n",
    "22-rumour-detection-in-the-wild-poster.pdf\n",
    "22-rumour-detection-in-the-wild-slide.pdf\n",
    "23-LaTeX-Rainbow-Poster.pdf\n",
    "23-LaTeX-Rainbow-Slide.pdf\n",
    "24-LP-DeepZensolsLightingPres.pdf\n",
    "24-Poster-DeepZensolsPoster.pdf\n",
    "26-torchdistill_nlp-oss2023_poster.pdf\n",
    "26-torchdistill_nlp-oss2023_slide.pdf\n",
    "27-captum-poster.pdf\n",
    "27-captum-slide.pdf\n",
    "28-nerblackbox-poster.pdf\n",
    "28-nerblackbox-presentation.pdf\n",
    "29-NewsSignals-lightning-slide.pdf\n",
    "29-NewsSignals-poster.pdf\n",
    "30-PyTAIL-Poster.pdf\n",
    "30-PyTAIL-Slide.pdf\n",
    "32_Antarlekhaka_A_Comprehensive_Tool_for_Multi-task_Natural_Language_Annotation_Poster.pdf\n",
    "32_Antarlekhaka_A_Comprehensive_Tool_for_Multi-task_Natural_Language_Annotation_Slide.pdf\"\"\".split('\\n')"
   ]
  },
  {
   "cell_type": "code",
   "execution_count": 10,
   "id": "d7f5f0e9",
   "metadata": {},
   "outputs": [],
   "source": [
    "posters = set([int(i.split('-')[0].split('_')[0]) for i in x])"
   ]
  },
  {
   "cell_type": "code",
   "execution_count": 11,
   "id": "b750a06a",
   "metadata": {},
   "outputs": [
    {
     "data": {
      "text/plain": [
       "{6, 10, 19, 25, 33}"
      ]
     },
     "execution_count": 11,
     "metadata": {},
     "output_type": "execute_result"
    }
   ],
   "source": [
    "set(papers).difference(posters)"
   ]
  },
  {
   "cell_type": "code",
   "execution_count": null,
   "id": "cff505fa",
   "metadata": {},
   "outputs": [],
   "source": []
  }
 ],
 "metadata": {
  "kernelspec": {
   "display_name": "Python 3",
   "language": "python",
   "name": "python3"
  },
  "language_info": {
   "codemirror_mode": {
    "name": "ipython",
    "version": 3
   },
   "file_extension": ".py",
   "mimetype": "text/x-python",
   "name": "python",
   "nbconvert_exporter": "python",
   "pygments_lexer": "ipython3",
   "version": "3.8.2"
  }
 },
 "nbformat": 4,
 "nbformat_minor": 5
}
